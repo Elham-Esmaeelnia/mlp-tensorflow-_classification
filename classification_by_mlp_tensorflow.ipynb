{
  "nbformat": 4,
  "nbformat_minor": 0,
  "metadata": {
    "colab": {
      "provenance": [],
      "authorship_tag": "ABX9TyNiierob4ELU1lPtMH6lh5f",
      "include_colab_link": true
    },
    "kernelspec": {
      "name": "python3",
      "display_name": "Python 3"
    },
    "language_info": {
      "name": "python"
    }
  },
  "cells": [
    {
      "cell_type": "markdown",
      "metadata": {
        "id": "view-in-github",
        "colab_type": "text"
      },
      "source": [
        "<a href=\"https://colab.research.google.com/github/Elham-Esmaeelnia/mlp-tensorflow-_classification/blob/main/classification_by_mlp_tensorflow.ipynb\" target=\"_parent\"><img src=\"https://colab.research.google.com/assets/colab-badge.svg\" alt=\"Open In Colab\"/></a>"
      ]
    },
    {
      "cell_type": "code",
      "execution_count": 1,
      "metadata": {
        "id": "DiTfy7uNp3Na"
      },
      "outputs": [],
      "source": [
        "import tensorflow as tf\n",
        "from tensorflow import keras"
      ]
    },
    {
      "cell_type": "code",
      "source": [
        "fashion_mnist = keras.datasets.fashion_mnist\n",
        "(X_train_full, y_train_full), (X_test, y_test) = fashion_mnist.load_data()"
      ],
      "metadata": {
        "colab": {
          "base_uri": "https://localhost:8080/"
        },
        "id": "74g8jgjEqQa-",
        "outputId": "6e6fbd3d-c0e5-40dd-d07c-4660e2d821a7"
      },
      "execution_count": 3,
      "outputs": [
        {
          "output_type": "stream",
          "name": "stdout",
          "text": [
            "Downloading data from https://storage.googleapis.com/tensorflow/tf-keras-datasets/train-labels-idx1-ubyte.gz\n",
            "29515/29515 [==============================] - 0s 0us/step\n",
            "Downloading data from https://storage.googleapis.com/tensorflow/tf-keras-datasets/train-images-idx3-ubyte.gz\n",
            "26421880/26421880 [==============================] - 0s 0us/step\n",
            "Downloading data from https://storage.googleapis.com/tensorflow/tf-keras-datasets/t10k-labels-idx1-ubyte.gz\n",
            "5148/5148 [==============================] - 0s 0us/step\n",
            "Downloading data from https://storage.googleapis.com/tensorflow/tf-keras-datasets/t10k-images-idx3-ubyte.gz\n",
            "4422102/4422102 [==============================] - 0s 0us/step\n"
          ]
        }
      ]
    },
    {
      "cell_type": "code",
      "source": [
        "print('x_train_full shape: ', X_train_full.shape, 'x_train_full type: ', X_train_full.dtype)\n",
        "print('y_train_full shape: ', y_train_full.shape, 'y_train_full type: ', y_train_full.dtype)\n",
        "print('x_test shape: ', X_test.shape, 'x_test type: ', X_test.dtype)\n",
        "print('y_test shape:', y_test.shape, 'y_test type', y_test.dtype)"
      ],
      "metadata": {
        "colab": {
          "base_uri": "https://localhost:8080/"
        },
        "id": "uwr-HSV6q8u9",
        "outputId": "ebf9558f-4f9e-4142-bf2c-28282cb564c6"
      },
      "execution_count": 5,
      "outputs": [
        {
          "output_type": "stream",
          "name": "stdout",
          "text": [
            "x_train_full shape:  (60000, 28, 28) x_train_full type:  uint8\n",
            "y_train_full shape:  (60000,) y_train_full type:  uint8\n",
            "x_test shape:  (10000, 28, 28) x_test type:  uint8\n",
            "y_test shape: (10000,) y_test type uint8\n"
          ]
        }
      ]
    },
    {
      "cell_type": "code",
      "source": [
        "x_valid, x_train = X_train_full[50000:] / 255.0, X_train_full[:50000] / 255.0\n",
        "y_valid, y_train = y_train_full[50000:], y_train_full[:50000]"
      ],
      "metadata": {
        "id": "OXSLtYZirR8N"
      },
      "execution_count": 6,
      "outputs": []
    },
    {
      "cell_type": "code",
      "source": [
        "model = keras.models.Sequential()\n",
        "model.add(keras.layers.Flatten(input_shape=[28, 28]))\n",
        "model.add(keras.layers.Dense(300, activation=\"relu\"))\n",
        "model.add(keras.layers.Dense(100, activation=\"relu\"))\n",
        "model.add(keras.layers.Dense(10, activation=\"softmax\"))"
      ],
      "metadata": {
        "id": "29Qvt2SrrhaS"
      },
      "execution_count": 7,
      "outputs": []
    },
    {
      "cell_type": "code",
      "source": [
        "model.summary()"
      ],
      "metadata": {
        "colab": {
          "base_uri": "https://localhost:8080/"
        },
        "id": "frNBNNCprqbh",
        "outputId": "1ee2e09d-25b3-4bec-c733-95a17de2a681"
      },
      "execution_count": 8,
      "outputs": [
        {
          "output_type": "stream",
          "name": "stdout",
          "text": [
            "Model: \"sequential\"\n",
            "_________________________________________________________________\n",
            " Layer (type)                Output Shape              Param #   \n",
            "=================================================================\n",
            " flatten (Flatten)           (None, 784)               0         \n",
            "                                                                 \n",
            " dense (Dense)               (None, 300)               235500    \n",
            "                                                                 \n",
            " dense_1 (Dense)             (None, 100)               30100     \n",
            "                                                                 \n",
            " dense_2 (Dense)             (None, 10)                1010      \n",
            "                                                                 \n",
            "=================================================================\n",
            "Total params: 266610 (1.02 MB)\n",
            "Trainable params: 266610 (1.02 MB)\n",
            "Non-trainable params: 0 (0.00 Byte)\n",
            "_________________________________________________________________\n"
          ]
        }
      ]
    },
    {
      "cell_type": "code",
      "source": [
        "model.compile(loss=\"sparse_categorical_crossentropy\", optimizer=\"sgd\", metrics=[\"accuracy\"])"
      ],
      "metadata": {
        "id": "eBDpCkKmsIcv"
      },
      "execution_count": 9,
      "outputs": []
    },
    {
      "cell_type": "code",
      "source": [
        "history = model.fit(x_train, y_train, epochs=30, validation_data=(x_valid, y_valid))"
      ],
      "metadata": {
        "colab": {
          "base_uri": "https://localhost:8080/"
        },
        "id": "EVt7T8iosLIt",
        "outputId": "3c315fd3-dc99-4a0c-b72e-1454a841c94e"
      },
      "execution_count": 11,
      "outputs": [
        {
          "output_type": "stream",
          "name": "stdout",
          "text": [
            "Epoch 1/30\n",
            "1563/1563 [==============================] - 8s 5ms/step - loss: 0.7328 - accuracy: 0.7604 - val_loss: 0.5502 - val_accuracy: 0.8074\n",
            "Epoch 2/30\n",
            "1563/1563 [==============================] - 6s 4ms/step - loss: 0.4996 - accuracy: 0.8271 - val_loss: 0.5115 - val_accuracy: 0.8154\n",
            "Epoch 3/30\n",
            "1563/1563 [==============================] - 7s 5ms/step - loss: 0.4515 - accuracy: 0.8424 - val_loss: 0.4666 - val_accuracy: 0.8370\n",
            "Epoch 4/30\n",
            "1563/1563 [==============================] - 6s 4ms/step - loss: 0.4223 - accuracy: 0.8525 - val_loss: 0.4158 - val_accuracy: 0.8540\n",
            "Epoch 5/30\n",
            "1563/1563 [==============================] - 7s 5ms/step - loss: 0.4011 - accuracy: 0.8594 - val_loss: 0.4841 - val_accuracy: 0.8184\n",
            "Epoch 6/30\n",
            "1563/1563 [==============================] - 6s 4ms/step - loss: 0.3840 - accuracy: 0.8652 - val_loss: 0.4003 - val_accuracy: 0.8600\n",
            "Epoch 7/30\n",
            "1563/1563 [==============================] - 7s 5ms/step - loss: 0.3706 - accuracy: 0.8686 - val_loss: 0.3991 - val_accuracy: 0.8599\n",
            "Epoch 8/30\n",
            "1563/1563 [==============================] - 6s 4ms/step - loss: 0.3590 - accuracy: 0.8735 - val_loss: 0.3969 - val_accuracy: 0.8603\n",
            "Epoch 9/30\n",
            "1563/1563 [==============================] - 8s 5ms/step - loss: 0.3478 - accuracy: 0.8764 - val_loss: 0.3817 - val_accuracy: 0.8650\n",
            "Epoch 10/30\n",
            "1563/1563 [==============================] - 6s 4ms/step - loss: 0.3387 - accuracy: 0.8790 - val_loss: 0.3769 - val_accuracy: 0.8674\n",
            "Epoch 11/30\n",
            "1563/1563 [==============================] - 7s 5ms/step - loss: 0.3304 - accuracy: 0.8817 - val_loss: 0.3624 - val_accuracy: 0.8681\n",
            "Epoch 12/30\n",
            "1563/1563 [==============================] - 7s 4ms/step - loss: 0.3231 - accuracy: 0.8838 - val_loss: 0.3578 - val_accuracy: 0.8719\n",
            "Epoch 13/30\n",
            "1563/1563 [==============================] - 7s 5ms/step - loss: 0.3139 - accuracy: 0.8879 - val_loss: 0.3599 - val_accuracy: 0.8736\n",
            "Epoch 14/30\n",
            "1563/1563 [==============================] - 7s 5ms/step - loss: 0.3079 - accuracy: 0.8889 - val_loss: 0.3544 - val_accuracy: 0.8716\n",
            "Epoch 15/30\n",
            "1563/1563 [==============================] - 6s 4ms/step - loss: 0.3014 - accuracy: 0.8919 - val_loss: 0.3575 - val_accuracy: 0.8729\n",
            "Epoch 16/30\n",
            "1563/1563 [==============================] - 7s 5ms/step - loss: 0.2961 - accuracy: 0.8937 - val_loss: 0.3524 - val_accuracy: 0.8717\n",
            "Epoch 17/30\n",
            "1563/1563 [==============================] - 6s 4ms/step - loss: 0.2905 - accuracy: 0.8961 - val_loss: 0.3338 - val_accuracy: 0.8820\n",
            "Epoch 18/30\n",
            "1563/1563 [==============================] - 7s 5ms/step - loss: 0.2853 - accuracy: 0.8972 - val_loss: 0.3348 - val_accuracy: 0.8791\n",
            "Epoch 19/30\n",
            "1563/1563 [==============================] - 6s 4ms/step - loss: 0.2801 - accuracy: 0.8991 - val_loss: 0.3350 - val_accuracy: 0.8789\n",
            "Epoch 20/30\n",
            "1563/1563 [==============================] - 7s 5ms/step - loss: 0.2745 - accuracy: 0.9006 - val_loss: 0.3269 - val_accuracy: 0.8825\n",
            "Epoch 21/30\n",
            "1563/1563 [==============================] - 6s 4ms/step - loss: 0.2700 - accuracy: 0.9028 - val_loss: 0.3543 - val_accuracy: 0.8753\n",
            "Epoch 22/30\n",
            "1563/1563 [==============================] - 7s 5ms/step - loss: 0.2656 - accuracy: 0.9040 - val_loss: 0.3458 - val_accuracy: 0.8776\n",
            "Epoch 23/30\n",
            "1563/1563 [==============================] - 6s 4ms/step - loss: 0.2603 - accuracy: 0.9065 - val_loss: 0.3260 - val_accuracy: 0.8813\n",
            "Epoch 24/30\n",
            "1563/1563 [==============================] - 7s 5ms/step - loss: 0.2564 - accuracy: 0.9070 - val_loss: 0.3342 - val_accuracy: 0.8774\n",
            "Epoch 25/30\n",
            "1563/1563 [==============================] - 6s 4ms/step - loss: 0.2521 - accuracy: 0.9086 - val_loss: 0.3233 - val_accuracy: 0.8840\n",
            "Epoch 26/30\n",
            "1563/1563 [==============================] - 7s 5ms/step - loss: 0.2480 - accuracy: 0.9098 - val_loss: 0.3401 - val_accuracy: 0.8783\n",
            "Epoch 27/30\n",
            "1563/1563 [==============================] - 6s 4ms/step - loss: 0.2439 - accuracy: 0.9124 - val_loss: 0.3158 - val_accuracy: 0.8875\n",
            "Epoch 28/30\n",
            "1563/1563 [==============================] - 7s 5ms/step - loss: 0.2403 - accuracy: 0.9140 - val_loss: 0.3254 - val_accuracy: 0.8794\n",
            "Epoch 29/30\n",
            "1563/1563 [==============================] - 7s 4ms/step - loss: 0.2366 - accuracy: 0.9144 - val_loss: 0.3562 - val_accuracy: 0.8702\n",
            "Epoch 30/30\n",
            "1563/1563 [==============================] - 7s 4ms/step - loss: 0.2334 - accuracy: 0.9168 - val_loss: 0.3108 - val_accuracy: 0.8878\n"
          ]
        }
      ]
    },
    {
      "cell_type": "code",
      "source": [
        "import pandas as pd\n",
        "import matplotlib.pyplot as plt\n",
        "pd.DataFrame(history.history).plot(figsize=(8, 5))\n",
        "plt.grid(True)\n",
        "plt.gca().set_ylim(0, 1)  # set the vertical range to [0-1]\n",
        "plt.show()"
      ],
      "metadata": {
        "colab": {
          "base_uri": "https://localhost:8080/",
          "height": 451
        },
        "id": "O8i9SsDitNeB",
        "outputId": "5a7fbe26-2072-4081-8936-876ffb24ec3d"
      },
      "execution_count": 12,
      "outputs": [
        {
          "output_type": "display_data",
          "data": {
            "text/plain": [
              "<Figure size 800x500 with 1 Axes>"
            ],
            "image/png": "[encoded data removed]"
          },
          "metadata": {}
        }
      ]
    },
    {
      "cell_type": "code",
      "source": [
        "model.evaluate(X_test/255, y_test)"
      ],
      "metadata": {
        "colab": {
          "base_uri": "https://localhost:8080/"
        },
        "id": "bMGP939OtZMW",
        "outputId": "ac7808e5-02f9-4eb1-fe64-af825b4af89d"
      },
      "execution_count": 14,
      "outputs": [
        {
          "output_type": "stream",
          "name": "stdout",
          "text": [
            "313/313 [==============================] - 1s 2ms/step - loss: 0.3315 - accuracy: 0.8837\n"
          ]
        },
        {
          "output_type": "execute_result",
          "data": {
            "text/plain": [
              "[0.3314928114414215, 0.8837000131607056]"
            ]
          },
          "metadata": {},
          "execution_count": 14
        }
      ]
    }
  ]
}